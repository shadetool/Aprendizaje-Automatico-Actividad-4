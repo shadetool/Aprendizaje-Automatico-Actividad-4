{
  "nbformat": 4,
  "nbformat_minor": 0,
  "metadata": {
    "colab": {
      "provenance": []
    },
    "kernelspec": {
      "name": "python3",
      "display_name": "Python 3"
    },
    "language_info": {
      "name": "python"
    }
  },
  "cells": [
    {
      "cell_type": "code",
      "execution_count": null,
      "metadata": {
        "colab": {
          "base_uri": "https://localhost:8080/"
        },
        "id": "jBnFapLiVO_I",
        "outputId": "de3e24fc-5103-477d-c215-bce85ba4b494"
      },
      "outputs": [
        {
          "output_type": "stream",
          "name": "stdout",
          "text": [
            "Collecting pulp\n",
            "  Downloading PuLP-2.8.0-py3-none-any.whl (17.7 MB)\n",
            "\u001b[2K     \u001b[90m━━━━━━━━━━━━━━━━━━━━━━━━━━━━━━━━━━━━━━━━\u001b[0m \u001b[32m17.7/17.7 MB\u001b[0m \u001b[31m67.1 MB/s\u001b[0m eta \u001b[36m0:00:00\u001b[0m\n",
            "\u001b[?25hInstalling collected packages: pulp\n",
            "Successfully installed pulp-2.8.0\n"
          ]
        }
      ],
      "source": [
        "!pip install pulp\n"
      ]
    },
    {
      "cell_type": "code",
      "source": [
        "import pulp as pl"
      ],
      "metadata": {
        "id": "c2JGvUQ7VWqp"
      },
      "execution_count": null,
      "outputs": []
    },
    {
      "cell_type": "code",
      "source": [
        "# Datos del problema\n",
        "tipos_piso = ['Cerámica', 'Porcelanato']\n",
        "costos_produccion = {'Cerámica': 5, 'Porcelanato': 8}\n",
        "capacidad_produccion = {'Cerámica': 1000, 'Porcelanato': 500}\n",
        "capacidad_transporte = 1500\n",
        "demandas = [300, 200, 400]\n",
        "distancias = [100, 150, 200]\n",
        "clientes = range(len(demandas))\n",
        "costo_transporte_unitario_km = 0.02"
      ],
      "metadata": {
        "id": "CAZw54P3VmiV"
      },
      "execution_count": null,
      "outputs": []
    },
    {
      "cell_type": "code",
      "source": [
        "# Crear el problema\n",
        "prob = pl.LpProblem(\"Optimizacion_Produccion_Distribucion_Pisos\", pl.LpMinimize)"
      ],
      "metadata": {
        "id": "VEEKYMFVVpml"
      },
      "execution_count": null,
      "outputs": []
    },
    {
      "cell_type": "code",
      "source": [
        "# Variables de decisión\n",
        "x = pl.LpVariable.dicts(\"x\", ((piso, cliente) for piso in tipos_piso for cliente in clientes), lowBound=0)"
      ],
      "metadata": {
        "id": "qXpSjzZTVuLn"
      },
      "execution_count": null,
      "outputs": []
    },
    {
      "cell_type": "code",
      "source": [
        "# Función objetivo\n",
        "prob += pl.lpSum([x[(piso, cliente)] * (costos_produccion[piso] + costo_transporte_unitario_km * distancias[cliente]) for piso in tipos_piso for cliente in clientes]), \"Costo_Total\""
      ],
      "metadata": {
        "id": "iCZpmbF3V2CR"
      },
      "execution_count": null,
      "outputs": []
    },
    {
      "cell_type": "code",
      "source": [
        "# Restricciones\n",
        "# Satisfacción de la demanda\n",
        "for cliente in clientes:\n",
        "    prob += pl.lpSum([x[(piso, cliente)] for piso in tipos_piso]) == demandas[cliente], f\"Demand_{cliente}\""
      ],
      "metadata": {
        "id": "nRTnc6vlV4H8"
      },
      "execution_count": null,
      "outputs": []
    },
    {
      "cell_type": "code",
      "source": [
        "# Capacidad de producción\n",
        "for piso in tipos_piso:\n",
        "    prob += pl.lpSum([x[(piso, cliente)] for cliente in clientes]) <= capacidad_produccion[piso], f\"Capacidad_{piso}\"\n"
      ],
      "metadata": {
        "id": "Tv6Ic1dMV6x0"
      },
      "execution_count": null,
      "outputs": []
    },
    {
      "cell_type": "code",
      "source": [
        "# Capacidad de transporte\n",
        "prob += pl.lpSum([x[(piso, cliente)] * distancias[cliente] for piso in tipos_piso for cliente in clientes]) <= capacidad_transporte, \"Capacidad_Transporte\"\n"
      ],
      "metadata": {
        "id": "Z3Oz-x-UV9Dx"
      },
      "execution_count": null,
      "outputs": []
    },
    {
      "cell_type": "code",
      "source": [
        "# Resolver el problema\n",
        "prob.solve()"
      ],
      "metadata": {
        "colab": {
          "base_uri": "https://localhost:8080/"
        },
        "id": "qhc2colLWDSf",
        "outputId": "84afddea-ac23-48c7-8ea2-f6fb1270880c"
      },
      "execution_count": null,
      "outputs": [
        {
          "output_type": "execute_result",
          "data": {
            "text/plain": [
              "-1"
            ]
          },
          "metadata": {},
          "execution_count": 11
        }
      ]
    },
    {
      "cell_type": "code",
      "source": [
        "# Imprimir la solución\n",
        "print(\"Estado:\", pl.LpStatus[prob.status])\n",
        "for v in prob.variables():\n",
        "    print(v.name, \"=\", v.varValue)\n",
        "print(\"Costo total mínimo: $\", pl.value(prob.objective))\n"
      ],
      "metadata": {
        "colab": {
          "base_uri": "https://localhost:8080/"
        },
        "id": "mrRCxeR_WF6T",
        "outputId": "6402db5e-8b99-4ecb-98cc-5b1a55f83b1f"
      },
      "execution_count": null,
      "outputs": [
        {
          "output_type": "stream",
          "name": "stdout",
          "text": [
            "Estado: Infeasible\n",
            "x_('Cerámica',_0) = 300.0\n",
            "x_('Cerámica',_1) = 0.0\n",
            "x_('Cerámica',_2) = 400.0\n",
            "x_('Porcelanato',_0) = 0.0\n",
            "x_('Porcelanato',_1) = 0.0\n",
            "x_('Porcelanato',_2) = 0.0\n",
            "Costo total mínimo: $ 5700.0\n"
          ]
        }
      ]
    },
    {
      "cell_type": "code",
      "source": [],
      "metadata": {
        "id": "uO48ZPWAWH3n"
      },
      "execution_count": null,
      "outputs": []
    }
  ]
}